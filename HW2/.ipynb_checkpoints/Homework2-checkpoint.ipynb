{
 "cells": [
  {
   "cell_type": "markdown",
   "metadata": {},
   "source": [
    "COMS 4731 Computer Vision -- Homework 2\n",
    "==========\n",
    "\n",
    "\n",
    "- This homework contains the following components: \n",
    "\n",
    "    - **Problem 1: Image Denoising (40 points)**\n",
    "        - Implement a mean filter using \"for\" loop.\n",
    "        - Implement the `convolve_image` function. \n",
    "        - Implement a mean filter using a filter matrix.\n",
    "        - Implement a Gaussian filter.\n",
    "\n",
    "    - **Problem 2: Edge Detection (30 points)**\n",
    "        - Implement a delta filter.\n",
    "        - Implement a Laplacian filter.\n",
    "\n",
    "    - **Problem 3: Hybrid Images (30 points)**\n",
    "        - Fourier transform.\n",
    "        - Implement low and high pass filters and apply them to images.\n",
    "        - Create a hybrid image using high-pass and low-pass fitlered images. \n",
    "\n",
    "\n",
    "- Your job is to implement the sections marked with `TODO` to complete the tasks. \n",
    "\n",
    "\n",
    "- Submission. \n",
    "    - Please submit the notebook (ipynb and pdf) including the output of all cells. "
   ]
  },
  {
   "cell_type": "markdown",
   "metadata": {},
   "source": [
    "Problem 1: Image Denoising\n",
    "==========================\n",
    "\n",
    "Taking pictures at night is challenging because there is less light that hits the film or camera sensor. To still capture an image in low light, we need to change our camera settings to capture more light. One way is to increase the exposure time, but if there is motion in the scene, this leads to blur. Another way is to use sensitive film that still responds to low intensity light. However, the trade-off is that this higher sensitivity increases the amount of noise captured, which often shows up as grain on photos. In this problem, your task is to clean up the noise with signal processing.\n",
    "\n"
   ]
  },
  {
   "cell_type": "markdown",
   "metadata": {},
   "source": [
    "Visualizing the Grain\n",
    "---------------------\n",
    "To start off, let's load up the image and visualize the image we want to denoise."
   ]
  },
  {
   "cell_type": "code",
   "execution_count": null,
   "metadata": {},
   "outputs": [],
   "source": [
    "import numpy as np\n",
    "import matplotlib.pyplot as plt\n",
    "from PIL import Image\n",
    "from IPython import display\n",
    "from scipy.signal import convolve2d\n",
    "from math import *\n",
    "import time\n",
    "%matplotlib inline\n",
    "\n",
    "plt.rcParams['figure.figsize'] = [7, 7]\n",
    "\n",
    "def load_image(filename):\n",
    "    img = np.asarray(Image.open(filename))\n",
    "    img = img.astype(\"float32\") / 255.\n",
    "    return img\n",
    "\n",
    "def gray2rgb(image):\n",
    "    return np.repeat(np.expand_dims(image, 2), 3, axis=2)\n",
    "\n",
    "def show_image(img):\n",
    "    if len(img.shape) == 2:\n",
    "        img = gray2rgb(img)\n",
    "    plt.imshow(img, interpolation='nearest')\n",
    "\n",
    "# load the image\n",
    "im = load_image('noisy_image.jpg')\n",
    "im = im.mean(axis=2) # convert to grayscale\n",
    "show_image(im)"
   ]
  },
  {
   "cell_type": "markdown",
   "metadata": {},
   "source": [
    "Mean Filter using \"for\" loop\n",
    "-----------\n",
    "\n",
    "Let's try to remove this grain with a mean filter. For every pixel in the image, we want to take an average (mean) of the neighboring pictures. Implement this operation using \"for\" loops and visualize the result:"
   ]
  },
  {
   "cell_type": "code",
   "execution_count": null,
   "metadata": {},
   "outputs": [],
   "source": [
    "im_pad = np.pad(im, 5, mode='constant')  # pad the border of the original image\n",
    "im_out = np.zeros_like(im)  # initialize the output image array\n",
    "\n",
    "''' TODO: Implement a mean filter using \"for\" loop here (modify the im_out matrix). '''\n",
    "\n",
    "show_image(im_out)"
   ]
  },
  {
   "cell_type": "markdown",
   "metadata": {},
   "source": [
    "Implement the `convolve_image` function.\n",
    "-----------\n",
    "\n",
    "In practice, applying filters to images can be more efficient by using convolution, which is a function that takes as input the raw image and a filter matrix, and outputs the convolved image. Implement your `convolve_image` function below."
   ]
  },
  {
   "cell_type": "code",
   "execution_count": null,
   "metadata": {},
   "outputs": [],
   "source": [
    "def convolve_image(image, filter_matrix):\n",
    "    ''' Convolve a 2D image using the filter matrix.\n",
    "    Args:\n",
    "        image: a 2D numpy array.\n",
    "        filter_matrix: a 2D numpy array.\n",
    "    Returns:\n",
    "        the convolved image, which is a 2D numpy array same size as the input image.\n",
    "        \n",
    "    TODO: Implement the convolve_image function here. \n",
    "    '''\n",
    "    pass"
   ]
  },
  {
   "cell_type": "markdown",
   "metadata": {},
   "source": [
    "Mean Filter with Convolution\n",
    "----------------------------\n",
    "\n",
    "Implement this same operation with a convolution instead. Fill in the mean filter matrix here, and visualize the convolution result."
   ]
  },
  {
   "cell_type": "code",
   "execution_count": null,
   "metadata": {},
   "outputs": [],
   "source": [
    "mean_filt = None ''' TODO: Create a mean filter matrix here. '''"
   ]
  },
  {
   "cell_type": "markdown",
   "metadata": {},
   "source": [
    "Apply mean filter convolution using your `convolve_image` function and the `mean_filt` matrix."
   ]
  },
  {
   "cell_type": "code",
   "execution_count": null,
   "metadata": {},
   "outputs": [],
   "source": [
    "show_image(convolve_image(im, mean_filt))"
   ]
  },
  {
   "cell_type": "markdown",
   "metadata": {},
   "source": [
    "Compare your convolution result with the `scipy.signal.convolve2d` function (they should look the same)."
   ]
  },
  {
   "cell_type": "code",
   "execution_count": null,
   "metadata": {},
   "outputs": [],
   "source": [
    "show_image(convolve2d(im, mean_filt))"
   ]
  },
  {
   "cell_type": "markdown",
   "metadata": {},
   "source": [
    "Note: In the sections below, we will use the `scipy.signal.convolve2d` function for grading. But fill free to test your `convolve_image` function on other filters as well."
   ]
  },
  {
   "cell_type": "markdown",
   "metadata": {},
   "source": [
    "Gaussian Filter\n",
    "---------------\n",
    "\n",
    "Instead of using a mean filter, let's use a Gaussian filter. Create a 2D Gaussian filter, and plot the result of the convolution.\n",
    "\n",
    "Hint: You can first construct a one dimensional Gaussian, then use it to create a 2D dimensional Gaussian. "
   ]
  },
  {
   "cell_type": "code",
   "execution_count": null,
   "metadata": {},
   "outputs": [],
   "source": [
    "def gaussian_filter(sigma, k=20):\n",
    "    ''' \n",
    "    Args:\n",
    "        sigma: the standard deviation of Gaussian kernel.\n",
    "        k: controls size of the filter matrix. \n",
    "    Returns:\n",
    "        a 2D Gaussian filter matrix of the size (2k+1, 2k+1).\n",
    "        \n",
    "    TODO: Implement a Gaussian filter here. \n",
    "    '''\n",
    "    pass \n",
    "\n",
    "show_image(convolve2d(im, gaussian_filter(2)))"
   ]
  },
  {
   "cell_type": "markdown",
   "metadata": {},
   "source": [
    "The amount the image is blurred changes depending on the sigma parameter. Change the sigma parameter to see what happens. Try a few different values."
   ]
  },
  {
   "cell_type": "code",
   "execution_count": null,
   "metadata": {},
   "outputs": [],
   "source": [
    "show_image(convolve2d(im, gaussian_filter(5)))"
   ]
  },
  {
   "cell_type": "markdown",
   "metadata": {},
   "source": [
    "Visualizing Gaussian Filter\n",
    "---------------------------\n",
    "Try changing the sigma parameter below to visualize the Gaussian filter directly. This gives you an idea of how different sigma values create different convolved images. "
   ]
  },
  {
   "cell_type": "code",
   "execution_count": null,
   "metadata": {},
   "outputs": [],
   "source": [
    "plt.imshow(gaussian_filter(sigma=2))"
   ]
  },
  {
   "cell_type": "markdown",
   "metadata": {},
   "source": [
    "Problem 2: Edge Detection\n",
    "=========================\n",
    "\n",
    "There are a variety of filters that we can use for different tasks. One such task is edge detection, which is useful for finding the boundaries regions in an image. In this part, your task is to use convolutions to find edges in images. Let's first load up an edgy image."
   ]
  },
  {
   "cell_type": "code",
   "execution_count": null,
   "metadata": {},
   "outputs": [],
   "source": [
    "im = load_image('edge_detection_image.jpg')\n",
    "im = im.mean(axis=2) # convert to grayscale\n",
    "show_image(im)"
   ]
  },
  {
   "cell_type": "markdown",
   "metadata": {},
   "source": [
    "Delta Filters\n",
    "-------------\n",
    "\n",
    "The simplest edge detector is a delta filter. Implement a delta filter below, and convolve it with the image.  Show the result."
   ]
  },
  {
   "cell_type": "code",
   "execution_count": null,
   "metadata": {},
   "outputs": [],
   "source": [
    "delta_filt = None  ''' TODO: Implement a delta filter here. '''\n",
    "\n",
    "plt.imshow(convolve2d(im, delta_filt), cmap='gray')"
   ]
  },
  {
   "cell_type": "markdown",
   "metadata": {},
   "source": [
    "Noise\n",
    "-----\n",
    "\n",
    "The issue with the delta filter is that it is sensitive to noise in the image. Let's add some Gaussian noise to the image below, and visualize what happens. The edges should be hard to see."
   ]
  },
  {
   "cell_type": "code",
   "execution_count": null,
   "metadata": {},
   "outputs": [],
   "source": [
    "im = load_image('edge_detection_image.jpg')\n",
    "im = im.mean(axis=2)\n",
    "im = im + 0.2*np.random.randn(*im.shape)\n",
    "\n",
    "f, axarr = plt.subplots(1,2)\n",
    "axarr[0].imshow(im, cmap='gray')\n",
    "axarr[1].imshow(convolve2d(im, delta_filt), cmap='gray')"
   ]
  },
  {
   "cell_type": "markdown",
   "metadata": {},
   "source": [
    "Laplacian Filters\n",
    "-----------------\n",
    "\n",
    "Laplacian filters are edge detectors that are robust to noise (Why is this? Think about how the filter is constructed.). Implement a Laplacian filter below for both horizontal and vertical edges."
   ]
  },
  {
   "cell_type": "code",
   "execution_count": null,
   "metadata": {},
   "outputs": [],
   "source": [
    "lap_x_filt = None  ''' TODO: Implement a Laplacian filter for horizontal edges. '''\n",
    "lap_y_filt = None  ''' TODO: Implement a Laplacian filter for vertical edges. '''\n",
    "\n",
    "f, axarr = plt.subplots(2,2)\n",
    "axarr[0,0].imshow(convolve2d(im, lap_y_filt), cmap='gray')\n",
    "axarr[0,1].imshow(convolve2d(im, lap_x_filt), cmap='gray')\n",
    "axarr[1,0].imshow(lap_y_filt, cmap='gray')\n",
    "axarr[1,1].imshow(lap_x_filt, cmap='gray')"
   ]
  },
  {
   "cell_type": "markdown",
   "metadata": {},
   "source": [
    "Problem 3: Hybrid Images\n",
    "========================\n",
    "\n",
    "Hybrid images is a technique to combine two images in one. Depending on the distance you view the image, you will see a different image. This is done by merging the high-frequency components of one image with the low-frequency components of a second image. In this problem, you are going to use the Fourier transform to make these images. But first, let's visualize the two images we will merge together."
   ]
  },
  {
   "cell_type": "code",
   "execution_count": null,
   "metadata": {},
   "outputs": [],
   "source": [
    "from numpy.fft import fft2, fftshift, ifftshift, ifft2\n",
    "\n",
    "dog = load_image('dog.jpg').mean(axis=-1)[:, 25:-24]\n",
    "cat = load_image('cat.jpg').mean(axis=-1)[:, 25:-24]\n",
    "\n",
    "f, axarr = plt.subplots(1,2)\n",
    "axarr[0].imshow(dog, cmap='gray')\n",
    "axarr[1].imshow(cat, cmap='gray')"
   ]
  },
  {
   "cell_type": "markdown",
   "metadata": {},
   "source": [
    "Fourier Transform\n",
    "-----------------\n",
    "\n",
    "In the code box below, compute the Fourier transform of the two images. You can use the fft2 function. You can also use the fftshift function, which may help in the next section."
   ]
  },
  {
   "cell_type": "code",
   "execution_count": null,
   "metadata": {},
   "outputs": [],
   "source": [
    "cat_fft = None  ''' TODO: compute the Fourier transform of the cat. '''\n",
    "dog_fft = None  ''' TODO: compute the Fourier transform of the dog. '''\n",
    "\n",
    "# Visualize the magnitude and phase of cat_fft. This is a complex number, so we visualize\n",
    "# the magnitude and angle of the complex number.\n",
    "# Curious fact: most of the information for natural images is stored in the phase (angle).\n",
    "f, axarr = plt.subplots(1,2)\n",
    "axarr[0].imshow(np.log(np.abs(cat_fft)), cmap='gray')\n",
    "axarr[1].imshow(np.angle(cat_fft), cmap='gray')"
   ]
  },
  {
   "cell_type": "markdown",
   "metadata": {},
   "source": [
    "Low and High Pass Filters\n",
    "-------------------------\n",
    "\n",
    "By masking the Fourier transform, you can compute both low and high pass of the images. In Fourier space, write code below to create the mask for a high pass filter of the cat, and the mask for a low pass filter of the dog. Then, convert back to image space and visualize these images.\n",
    "\n",
    "You may need to use the functions ifft2 and ifftshift."
   ]
  },
  {
   "cell_type": "code",
   "execution_count": null,
   "metadata": {},
   "outputs": [],
   "source": [
    "high_mask = None   ''' TODO: Create the mask for a high pass filter of the cat. '''\n",
    "low_mask = None   ''' TODO: Create the mask for a low pass filter of the dog. '''\n",
    "\n",
    "cat_filtered = None  ''' TODO: Apply the high pass filter on the cat and convert back to image space. '''\n",
    "dog_filtered = None  ''' TODO: Apply the low pass filter on the dog and convert back to image space. ''' \n",
    "\n",
    "f, axarr = plt.subplots(1,2)\n",
    "axarr[0].imshow(dog_filtered, cmap='gray')\n",
    "axarr[1].imshow(cat_filtered, cmap='gray')"
   ]
  },
  {
   "cell_type": "markdown",
   "metadata": {},
   "source": [
    "Hybrid Image Results\n",
    "--------------------\n",
    "\n",
    "Now that we have the high pass and low pass fitlered images, we can create a hybrid image by adding them. Write the code to combine the images below, and visualize the hybrd image.\n",
    "\n",
    "Depending on whether you are close or far away from your monitor, you should see either a cat or a dog.  Try creating a few different hybrid images from your own photos or photos you found. Submit them, and we will show the coolest ones in class."
   ]
  },
  {
   "cell_type": "code",
   "execution_count": null,
   "metadata": {},
   "outputs": [],
   "source": [
    "hybrid = None  ''' TODO: Compute the hybrid image here. '''\n",
    "\n",
    "plt.imshow(hybrid, cmap='gray')"
   ]
  },
  {
   "cell_type": "markdown",
   "metadata": {},
   "source": [
    "Acknowledgements\n",
    "----------------\n",
    "\n",
    "This homework is based on assignments from Aude Oliva at MIT, and James Hays at Georgia Tech. "
   ]
  }
 ],
 "metadata": {
  "anaconda-cloud": {},
  "kernelspec": {
   "display_name": "Python 3",
   "language": "python",
   "name": "python3"
  },
  "language_info": {
   "codemirror_mode": {
    "name": "ipython",
    "version": 3
   },
   "file_extension": ".py",
   "mimetype": "text/x-python",
   "name": "python",
   "nbconvert_exporter": "python",
   "pygments_lexer": "ipython3",
   "version": "3.7.3"
  }
 },
 "nbformat": 4,
 "nbformat_minor": 4
}
