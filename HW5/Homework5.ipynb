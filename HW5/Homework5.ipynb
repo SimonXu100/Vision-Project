{
 "cells": [
  {
   "cell_type": "markdown",
   "metadata": {},
   "source": [
    "Homework 5: Stereo\n",
    "==================\n",
    "\n",
    "In this homework, you will implement an two-view stereo algorithm. Given two images from a stereo rig, you can estimate the 3D depth of the scene by first calculating the disparity between pixels, and use the camera intrinsics to triangulate the depth. This homework will focus only on estimating the disparity between pixels.\n",
    "\n",
    "You will estimate two stereo algorithms, which are both worth 50 points. In the first stereo algorithm, you should implement a greedy matching approach. In the second stereo algorithm, you should implement a stereo algorithm that incorporates a prior of spatial smoothness, which you optimize with dynamic programming.\n",
    "\n",
    "But, before we begin, let's load some helper functions."
   ]
  },
  {
   "cell_type": "code",
   "execution_count": null,
   "metadata": {},
   "outputs": [],
   "source": [
    "import numpy as np\n",
    "import matplotlib.pyplot as plt\n",
    "from PIL import Image\n",
    "from IPython import display\n",
    "from scipy.signal import convolve2d\n",
    "from math import *\n",
    "from tqdm import tqdm\n",
    "import time\n",
    "plt.rcParams['figure.figsize'] = [7, 7]\n",
    "\n",
    "def load_image(filename):\n",
    "    img = np.asarray(Image.open(filename))\n",
    "    img = img.astype(\"float32\") / 255.\n",
    "    return img\n",
    "\n",
    "def gray2rgb(image):\n",
    "    return np.repeat(np.expand_dims(image, 2), 3, axis=2)\n",
    "\n",
    "def show_image(img):\n",
    "    if len(img.shape) == 2:\n",
    "        img = gray2rgb(img)\n",
    "    plt.imshow(img, interpolation='nearest')"
   ]
  },
  {
   "cell_type": "markdown",
   "metadata": {},
   "source": [
    "Visualizing Stereo Pairs\n",
    "------------------------\n",
    "\n",
    "Let's visualize the images captured by the left and right camera pair. These images from the Middlebury Stereo Dataset (http://vision.middlebury.edu/stereo/data/). "
   ]
  },
  {
   "cell_type": "code",
   "execution_count": null,
   "metadata": {},
   "outputs": [],
   "source": [
    "left = load_image('im0.jpg')\n",
    "right = load_image('im1.jpg')\n",
    "\n",
    "height,width,_ = left.shape\n",
    "\n",
    "pad_size = 100\n",
    "\n",
    "left_pad = np.pad(left, ((pad_size, pad_size), (pad_size, pad_size), (0,0)), mode='constant')\n",
    "right_pad = np.pad(right, ((pad_size, pad_size), (pad_size, pad_size), (0,0)), mode='constant')\n",
    "\n",
    "show_image(np.concatenate([left, right], axis=1))"
   ]
  },
  {
   "cell_type": "markdown",
   "metadata": {},
   "source": [
    "Problem 1: Greedy Stereo Matching (50 points)\n",
    "---------------------------------------------\n",
    "\n",
    "From the left and right image, calculate the disparity between each pixel using a greedy matching algorithm. You may assume that the stereo pairs are rectified, which means the camera pairs are only horizontally translated. In your PDF, be sure to include both the code and the visualization of the estimated disparity. \n",
    "\n",
    "**Distance Function**: There are a variety of distance functions that you can use. For this problem, you can just use sum of squared differences between RGB patches.\n",
    "\n",
    "**Accuracy**: It is very hard to get the right result with a greedy approach. However, your approach should at least put the head and background in right place. "
   ]
  },
  {
   "cell_type": "code",
   "execution_count": null,
   "metadata": {},
   "outputs": [],
   "source": [
    "# Some variables that might help you. But you don't have to use them.\n",
    "max_dx = 30 # max number of displacements to search. make this smaller to speed up\n",
    "dxs = np.linspace(-max_dx, max_dx, num=2*max_dx+1).astype(\"int32\")\n",
    "win_size = 5 # size of window you use for ssd computation\n",
    "\n",
    "def compute_disparity():\n",
    "    # TODO: calculate the disparity using a greedy approach between left and right\n",
    "    \n",
    "    \n",
    "    \n",
    "    \n",
    "    \n",
    "    \n",
    "    return np.zeros((1,1))\n",
    "\n",
    "disparity = compute_disparity()\n",
    "plt.matshow(disparity)"
   ]
  },
  {
   "cell_type": "markdown",
   "metadata": {},
   "source": [
    "Problem 2: Dynamic Programming (50 points)\n",
    "------------------------------------------\n",
    "\n",
    "In this problem, implement a dynamic programming based stereo estimation algorithm that incorporates the spatial smoothness between adjacent disparities. For the local matching cost, you can use the same sum-of-squared-differences as above. For the pairwise cost, you can use L1 distance. In your PDF, include both code and the estimated disparity map.\n",
    "\n",
    "**Hint**: In your algorithms course, you should have covered the Viterbi algorithm. Apply it to this problem. Write out the objective function as a recursive function. As you compute the recurrence, keep track of the pointers to the previous iteration. After you finish the recursive computation, just walk backwards using the stored pointers.\n",
    "\n",
    "**Hint Two**: To help you debug, you can change the strength of the pairwise term. If you turn off the pairwise term, your implementation should recover the same solution as the greedy approach. If you make the strength of the pairwise term very high, your implementation should assign pixels to be identical disparity.\n",
    "\n",
    "**Accuracy**: It is OK if you do not get perfect stereo reconstruction. Carl's solution gets it mostly right except for the lamp, which fails due to specular reflection. "
   ]
  },
  {
   "cell_type": "code",
   "execution_count": null,
   "metadata": {},
   "outputs": [],
   "source": [
    "# Some variables that might help you. But you don't have to use them.\n",
    "max_dx = 30 # max number of displacements to search. make this smaller to speed up\n",
    "dxs = np.linspace(-max_dx, max_dx, num=2*max_dx+1).astype(\"int32\")\n",
    "\n",
    "win_size = 5 # size of window you use for ssd computation\n",
    "lamb_coeff = 1 # coefficient in front of pairwise cost\n",
    "\n",
    "def l1_score(a,b):\n",
    "    # TODO: implement a score for L1 distance\n",
    "    return 0\n",
    "\n",
    "def compute_disparity():\n",
    "    # TODO: calculate the disparity using dynamic programming between left and right\n",
    "    return np.zeros((1,1))\n",
    "\n",
    "disparity = compute_disparity()\n",
    "plt.matshow(disparity)"
   ]
  },
  {
   "cell_type": "markdown",
   "metadata": {},
   "source": [
    "Deliverables\n",
    "------------\n",
    "\n",
    "Export your completed notebook as a PDF. Make sure the PDF includes both the code and the resulting output. We will be grading both your code and final output. (Runtime will not impact your score.)"
   ]
  }
 ],
 "metadata": {
  "kernelspec": {
   "display_name": "Python 3",
   "language": "python",
   "name": "python3"
  },
  "language_info": {
   "codemirror_mode": {
    "name": "ipython",
    "version": 3
   },
   "file_extension": ".py",
   "mimetype": "text/x-python",
   "name": "python",
   "nbconvert_exporter": "python",
   "pygments_lexer": "ipython3",
   "version": "3.7.3"
  }
 },
 "nbformat": 4,
 "nbformat_minor": 4
}
