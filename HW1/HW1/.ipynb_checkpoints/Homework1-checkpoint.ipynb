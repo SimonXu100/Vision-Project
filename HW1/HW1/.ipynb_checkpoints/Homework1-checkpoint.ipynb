{
 "cells": [
  {
   "cell_type": "markdown",
   "metadata": {},
   "source": [
    "# Homework 1: Image Formation and Sensing\n",
    "\n",
    "## Color image demosaicing"
   ]
  },
  {
   "cell_type": "markdown",
   "metadata": {},
   "source": [
    "Recall that in digital cameras the red, blue, and green sensors are interlaced in a Bayer pattern. Your goal is to fill the missing values in each channel to obtain a full color image. For this homework, you will implement three different interpolation algorithms. The input to the algorithm is a single image *im*, an N x M array of numbers between 0.0 and 1.0. These are measurements in the format shown in Figure 2, i.e. the top left pixel *im(0, 0)* is red, *im(0, 1)* is green, *im(1, 0)* is also green and *im(1, 1)* refers to the blue channel. Your goal is to create a single color image from these measurements.\n",
    "\n",
    "<img src=\"mosaic.png\">"
   ]
  },
  {
   "cell_type": "markdown",
   "metadata": {},
   "source": [
    "First, run the following code to load the input images."
   ]
  },
  {
   "cell_type": "code",
   "execution_count": null,
   "metadata": {},
   "outputs": [],
   "source": [
    "import numpy as np\n",
    "from matplotlib.image import imread\n",
    "import matplotlib.pyplot as plt\n",
    "\n",
    "images = ['balloons.jpg', 'candy.jpg', 'cat.jpg', 'ip.jpg', \n",
    "          'puppy.jpg', 'squirrel.jpg', 'tree.jpg']\n",
    "\n",
    "def show_image(img):\n",
    "    plt.imshow(img, interpolation='nearest')"
   ]
  },
  {
   "cell_type": "code",
   "execution_count": null,
   "metadata": {},
   "outputs": [],
   "source": [
    "'''This array contains the mosaiced images which have to be demosaiced.'''\n",
    "mosaiced_images = []\n",
    "gtruth_images = []\n",
    "\n",
    "'''A function to generate the mosaiced images from the given RGB images.'''\n",
    "def generate_mosaic(image):\n",
    "    mosaic = image[:, :, 1].copy() # green\n",
    "    mosaic[::2, ::2] = image[::2, ::2, 0] # red\n",
    "    mosaic[1::2, 1::2] = image[1::2, 1::2, 2] # blue\n",
    "    return mosaic\n",
    "        \n",
    "'''A function to generate the mosaiced images for all the input images.'''\n",
    "def generate_input(mosaiced_images, gtruth_images):\n",
    "    for file in images:\n",
    "        image = imread('input/' + file)\n",
    "        image = image / 255.0\n",
    "        gtruth_images.append(image)\n",
    "        mosaiced_images.append(generate_mosaic(image))\n",
    "        \n",
    "generate_input(mosaiced_images, gtruth_images)"
   ]
  },
  {
   "cell_type": "markdown",
   "metadata": {},
   "source": [
    "## Visualize the Images\n",
    "\n",
    "To gain intuition, let's visualize the image encoded in the Bayer pattern. Run the code below to see both the mosaic image and the original image. In this problem, you will take the image encoded in a Bayer pattern and recover the full color image."
   ]
  },
  {
   "cell_type": "code",
   "execution_count": 1,
   "metadata": {},
   "outputs": [
    {
     "ename": "NameError",
     "evalue": "name 'plt' is not defined",
     "output_type": "error",
     "traceback": [
      "\u001b[0;31m---------------------------------------------------------------------------\u001b[0m",
      "\u001b[0;31mNameError\u001b[0m                                 Traceback (most recent call last)",
      "\u001b[0;32m<ipython-input-1-33606ccd7c37>\u001b[0m in \u001b[0;36m<module>\u001b[0;34m\u001b[0m\n\u001b[0;32m----> 1\u001b[0;31m \u001b[0mf\u001b[0m\u001b[0;34m,\u001b[0m \u001b[0maxarr\u001b[0m \u001b[0;34m=\u001b[0m \u001b[0mplt\u001b[0m\u001b[0;34m.\u001b[0m\u001b[0msubplots\u001b[0m\u001b[0;34m(\u001b[0m\u001b[0;36m1\u001b[0m\u001b[0;34m,\u001b[0m\u001b[0;36m2\u001b[0m\u001b[0;34m)\u001b[0m\u001b[0;34m\u001b[0m\u001b[0;34m\u001b[0m\u001b[0m\n\u001b[0m\u001b[1;32m      2\u001b[0m \u001b[0maxarr\u001b[0m\u001b[0;34m[\u001b[0m\u001b[0;36m0\u001b[0m\u001b[0;34m]\u001b[0m\u001b[0;34m.\u001b[0m\u001b[0mimshow\u001b[0m\u001b[0;34m(\u001b[0m\u001b[0mmosaiced_images\u001b[0m\u001b[0;34m[\u001b[0m\u001b[0;36m0\u001b[0m\u001b[0;34m]\u001b[0m\u001b[0;34m,\u001b[0m \u001b[0mcmap\u001b[0m\u001b[0;34m=\u001b[0m\u001b[0;34m'gray'\u001b[0m\u001b[0;34m)\u001b[0m\u001b[0;34m\u001b[0m\u001b[0;34m\u001b[0m\u001b[0m\n\u001b[1;32m      3\u001b[0m \u001b[0maxarr\u001b[0m\u001b[0;34m[\u001b[0m\u001b[0;36m1\u001b[0m\u001b[0;34m]\u001b[0m\u001b[0;34m.\u001b[0m\u001b[0mimshow\u001b[0m\u001b[0;34m(\u001b[0m\u001b[0mgtruth_images\u001b[0m\u001b[0;34m[\u001b[0m\u001b[0;36m0\u001b[0m\u001b[0;34m]\u001b[0m\u001b[0;34m,\u001b[0m \u001b[0mcmap\u001b[0m\u001b[0;34m=\u001b[0m\u001b[0;34m'gray'\u001b[0m\u001b[0;34m)\u001b[0m\u001b[0;34m\u001b[0m\u001b[0;34m\u001b[0m\u001b[0m\n",
      "\u001b[0;31mNameError\u001b[0m: name 'plt' is not defined"
     ]
    }
   ],
   "source": [
    "f, axarr = plt.subplots(1,2)\n",
    "axarr[0].imshow(mosaiced_images[0], cmap='gray')\n",
    "axarr[1].imshow(gtruth_images[0], cmap='gray')"
   ]
  },
  {
   "cell_type": "markdown",
   "metadata": {},
   "source": [
    "## Implement your code here\n",
    "\n",
    "There are several algorithms that we can use to recover the original image. You will implement three of them:\n",
    "\n",
    "1) Implement the **nearest neighbour** (12 pt) algorithm\n",
    "\n",
    "2) Implement the **linear interpolation** (12 pt) algorithm.\n",
    "\n",
    "3) Then, implement a more advanced method such as the **adaptive gradient-based** (15 pt) algorithm, and compare the results.\n",
    "\n",
    "These methods will be evaluated in the next section."
   ]
  },
  {
   "cell_type": "code",
   "execution_count": null,
   "metadata": {},
   "outputs": [],
   "source": [
    "'''Methods to demosaic the image; the input is a mosaiced image and the output should be a\n",
    "demosaiced image with R, G and B channels. The dimensions of the images should be the\n",
    "same.'''\n",
    "\n",
    "def demosaic_nn(im):\n",
    "    '''\n",
    "    Implement your nearest neighbour code here.\n",
    "    '''\n",
    "    \n",
    "    return np.zeros((im.shape[0], im.shape[1], 3))\n",
    "\n",
    "def demosaic_interpolate(im):\n",
    "    '''\n",
    "    Implement your linear interpolation code here.\n",
    "    '''\n",
    "    \n",
    "    return np.zeros((im.shape[0], im.shape[1], 3))\n",
    "\n",
    "def demosaic_gradient(im):\n",
    "    '''\n",
    "    Implement your gradient-based code here.\n",
    "    '''\n",
    "    \n",
    "    return np.zeros((im.shape[0], im.shape[1], 3))"
   ]
  },
  {
   "cell_type": "code",
   "execution_count": null,
   "metadata": {},
   "outputs": [],
   "source": [
    "'''These lists will contain the output images of each of the demosaicing methods.'''\n",
    "nn_output = []\n",
    "interpolation_output = []\n",
    "gradient_output = []\n",
    "\n",
    "def demosaic_image(image, method='NN'):\n",
    "    if method == 'NN':\n",
    "        return demosaic_nn(image)\n",
    "    elif method == 'interpolate':\n",
    "        return demosaic_interpolate(image)\n",
    "    elif method == 'gradient':\n",
    "        return demosaic_gradient(image)\n",
    "    else:\n",
    "        raise ValueError('Unknown method')\n",
    "\n",
    "def generate_output(mosaiced_images):\n",
    "    \n",
    "    # Demosaicing using the nearest neighbour method\n",
    "    for image in mosaiced_images:\n",
    "        op = demosaic_image(image, method='NN')\n",
    "        nn_output.append(op)\n",
    "        \n",
    "    # Demosaicing using the linear interpolation method\n",
    "    for image in mosaiced_images:\n",
    "        op = demosaic_image(image, method='interpolate')\n",
    "        interpolation_output.append(op)\n",
    "        \n",
    "    # Demosaicing using the gradient-based method\n",
    "    for image in mosaiced_images:\n",
    "        op = demosaic_image(image, method='gradient')\n",
    "        gradient_output.append(op)\n",
    "        \n",
    "generate_output(mosaiced_images)\n",
    "\n",
    "'''Modify the index of the image to show as an example here.'''\n",
    "image_to_show = 2\n",
    "\n",
    "plt.figure()\n",
    "show_image(nn_output[image_to_show])\n",
    "plt.figure()\n",
    "show_image(interpolation_output[image_to_show])\n",
    "plt.figure()\n",
    "show_image(gradient_output[image_to_show])"
   ]
  },
  {
   "cell_type": "markdown",
   "metadata": {},
   "source": [
    "## Evaluation\n",
    "\n",
    "\n",
    "\n",
    "We will evaluate the algorithm by comparing your output to the ground truth color image. The input to your algorithm was constructed by artificially mosaicing it. This is not ideal in practice, but we will ignore this for now. We can compute the mean error between each color image and your output and report these numbers for each algorithm.\n",
    "\n",
    "*Please note that just whether or not the mean errors lie below the threshold does not fully determine your grade; rather, they serve as an indication for you to check whether your algorithms perform correctly and to see which methods work better than others.*"
   ]
  },
  {
   "cell_type": "code",
   "execution_count": null,
   "metadata": {},
   "outputs": [],
   "source": [
    "def calculate_mean_difference(output_images):\n",
    "    sum = 0.0\n",
    "    for idx, image in enumerate(output_images):\n",
    "        pixel_error = np.absolute(image - gtruth_images[idx])\n",
    "        sum += np.mean(pixel_error)\n",
    "    sum /= len(output_images)\n",
    "    \n",
    "    return sum\n",
    "    \n",
    "def evaluate(threshold):\n",
    "    error = calculate_mean_difference(nn_output)\n",
    "    if  error < threshold:\n",
    "        print(\"NN -> Likely passed! Mean error is\", error)\n",
    "    else:\n",
    "        print(\"NN -> Failed! Mean error is\", error)\n",
    "       \n",
    "    error = calculate_mean_difference(interpolation_output)\n",
    "    if  error < threshold:\n",
    "        print(\"Interpolation -> Likely passed! Mean error is\", error)\n",
    "    else:\n",
    "        print(\"Interpolation -> Failed! Mean error is\", error)\n",
    "    \n",
    "    error = calculate_mean_difference(gradient_output)\n",
    "    if  error < threshold:\n",
    "        print(\"Gradient -> Likely passed! Mean error is\", error)\n",
    "    else:\n",
    "        print(\"Gradient -> Failed! Mean error is\", error)\n",
    "\n",
    "evaluate(threshold=0.03)"
   ]
  },
  {
   "cell_type": "markdown",
   "metadata": {},
   "source": [
    "*This homework was designed by Varun Chanddra and Basile Van Hoorick under the supervision of Prof. Carl Vondrick. It is based on a homework from the class EECS 442 by Prof. Jia Deng at the University of Michigan, Ann Arbor, which was in turn taken from the class CMPSCI 670 by Prof. Subhransu Maji at the University of Massachusetts, Amherst.*"
   ]
  },
  {
   "cell_type": "code",
   "execution_count": null,
   "metadata": {},
   "outputs": [],
   "source": []
  }
 ],
 "metadata": {
  "kernelspec": {
   "display_name": "Python 3",
   "language": "python",
   "name": "python3"
  },
  "language_info": {
   "codemirror_mode": {
    "name": "ipython",
    "version": 3
   },
   "file_extension": ".py",
   "mimetype": "text/x-python",
   "name": "python",
   "nbconvert_exporter": "python",
   "pygments_lexer": "ipython3",
   "version": "3.7.3"
  }
 },
 "nbformat": 4,
 "nbformat_minor": 4
}
