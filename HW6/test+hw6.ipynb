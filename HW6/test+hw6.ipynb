{
 "cells": [
  {
   "cell_type": "code",
   "execution_count": 1,
   "metadata": {},
   "outputs": [],
   "source": [
    "import numpy as np\n",
    "import math\n",
    "from scipy import signal"
   ]
  },
  {
   "cell_type": "code",
   "execution_count": 2,
   "metadata": {},
   "outputs": [],
   "source": [
    "r, c = np.ogrid[-3/2: 3 / 2 + 1, -3 / 2: 3 / 2 + 1]"
   ]
  },
  {
   "cell_type": "code",
   "execution_count": 3,
   "metadata": {},
   "outputs": [],
   "source": [
    "import numpy as np\n",
    "import matplotlib.pyplot as plt\n",
    "from PIL import Image\n",
    "from IPython import display"
   ]
  },
  {
   "cell_type": "code",
   "execution_count": 4,
   "metadata": {},
   "outputs": [],
   "source": [
    "from math import *"
   ]
  },
  {
   "cell_type": "code",
   "execution_count": null,
   "metadata": {},
   "outputs": [],
   "source": []
  },
  {
   "cell_type": "code",
   "execution_count": null,
   "metadata": {},
   "outputs": [],
   "source": []
  },
  {
   "cell_type": "code",
   "execution_count": null,
   "metadata": {},
   "outputs": [],
   "source": []
  },
  {
   "cell_type": "code",
   "execution_count": 5,
   "metadata": {},
   "outputs": [],
   "source": [
    "import numpy as np\n",
    "import math\n",
    "from scipy import signal\n",
    "\n",
    "def gaussian2D(sigma=0.5):\n",
    "    \"\"\"\n",
    "    2D gaussian filter\n",
    "    \"\"\"\n",
    "    size = int(math.ceil(sigma * 6))\n",
    "    if (size % 2 == 0):\n",
    "        size += 1\n",
    "    r, c = np.ogrid[-size / 2: size / 2 + 1, -size / 2: size / 2 + 1]\n",
    "    g = np.exp(-(c * c + r * r) / (2. * sigma ** 2))\n",
    "    g = g / (g.sum() + 0.000001)\n",
    "    \n",
    "    return g\n",
    "\n",
    "def box2D(n):\n",
    "    \"\"\"\n",
    "    2D box filter\n",
    "    \"\"\"\n",
    "    box = np.full((n, n), 1. / (n * n))\n",
    "    return box\n",
    "\n",
    "\n",
    "def calculate_derivatives(i1, i2, sigma=0.5, n=3):\n",
    "    \"\"\"\n",
    "    Derive Ix, Iy and It in this function\n",
    "\n",
    "    To derive the spatial derivative in one image, you need to smooth the image with gaussian filter,\n",
    "    and calculate the derivative, signal.convolve2d and np.gradient might be useful here\n",
    "\n",
    "    To derive the temporal derivative in two images, you need to filter the images with box filters,\n",
    "    and then calculate the difference between the results\n",
    "    \"\"\"\n",
    "    box_fil = box2D(n)\n",
    "    gauss_fil = gaussian2D(sigma)\n",
    "    \n",
    "    # take the i1 as the changed image(later happened image)\n",
    "    #step 1 \n",
    "    #smooth the i2 image with gaussian filter \n",
    "    g_i1 = signal.convolve2d(i1,gauss_fil,mode='same')\n",
    "    # caculate the gradient of x and y: Ix, Iy\n",
    "    Ix, Iy = np.gradient(g_i1)\n",
    "    \n",
    "    \n",
    "    #step 2: derive the temporal derivative\n",
    "    #filter the i1 and i2 using box filters\n",
    "    b_i1 = signal.convolve2d(i1,box_fil,mode='same')\n",
    "    b_i2 = signal.convolve2d(i2,box_fil,mode='same')\n",
    "    \n",
    "    # the temporal derivatives It\n",
    "    It = b_i2 - b_i1\n",
    "    return Ix, Iy, It"
   ]
  },
  {
   "cell_type": "code",
   "execution_count": null,
   "metadata": {},
   "outputs": [],
   "source": []
  },
  {
   "cell_type": "code",
   "execution_count": null,
   "metadata": {},
   "outputs": [],
   "source": []
  },
  {
   "cell_type": "code",
   "execution_count": null,
   "metadata": {},
   "outputs": [],
   "source": []
  },
  {
   "cell_type": "code",
   "execution_count": null,
   "metadata": {},
   "outputs": [],
   "source": []
  },
  {
   "cell_type": "code",
   "execution_count": 6,
   "metadata": {},
   "outputs": [
    {
     "name": "stdout",
     "output_type": "stream",
     "text": [
      "Testing derivatives:\n",
      "Ix difference:  3.7486934875982425e-08\n",
      "Iy difference:  1.1881858448439447e-08\n",
      "It difference:  1.2500021866561346e-09\n"
     ]
    }
   ],
   "source": [
    "def rel_error(x, y):\n",
    "  return np.max(np.abs(x - y) / (np.maximum(1e-8, np.abs(x) + np.abs(y))))\n",
    "\n",
    "# test the calculate_derivatives function\n",
    "a = np.arange(50, step=2).reshape((5,5))\n",
    "b = np.roll(a, 1, axis=1)\n",
    "ix, iy, it = calculate_derivatives(a, b, 3, 3)\n",
    "correct_ix = np.array([[ 1.19566094,  1.44638748,  1.60119287,  1.62253849,  1.50447539],\n",
    "                        [ 1.0953402,   1.32258973,  1.4614055,   1.4781469,   1.36814814],\n",
    "                        [ 0.7722809,   0.92753122,  1.01928721,  1.02535579,  0.94404567],\n",
    "                        [ 0.25022598,  0.29355951,  0.31471869,  0.30865011,  0.27704506],\n",
    "                        [-0.04909038, -0.06915144, -0.0875189,  -0.09965607, -0.10218035]])\n",
    "correct_iy = np.array([[ 0.81434768,  0.67021012,  0.31799052, -0.11348914, -0.33688675],\n",
    "                       [ 1.06507422,  0.87297609,  0.40606602, -0.16184788, -0.45494985],\n",
    "                       [ 1.26884674,  1.03627543,  0.47354769, -0.2067465,  -0.55688427],\n",
    "                       [ 1.37557486,  1.1199824,   0.5038906,  -0.23708941, -0.61757009],\n",
    "                       [ 1.3555138,   1.10076814,  0.48863828, -0.24442014, -0.62009437]])\n",
    "correct_it = np.array([[ 1.33333333,  0.88888889, -1.33333333, -1.33333333, -0.88888889],\n",
    "                       [ 2.,          1.33333333, -2.,         -2.,         -1.33333333],\n",
    "                       [ 2.,          1.33333333, -2.,         -2.,         -1.33333333],\n",
    "                       [ 2.,          1.33333333, -2.,         -2.,         -1.33333333],\n",
    "                       [ 1.33333333,  0.88888889, -1.33333333, -1.33333333, -0.88888889]])\n",
    "\n",
    "print('Testing derivatives:')\n",
    "print('Ix difference: ', rel_error(ix, correct_ix))\n",
    "print('Iy difference: ', rel_error(iy, correct_iy))\n",
    "print('It difference: ', rel_error(it, correct_it))"
   ]
  },
  {
   "cell_type": "code",
   "execution_count": null,
   "metadata": {},
   "outputs": [],
   "source": []
  },
  {
   "cell_type": "code",
   "execution_count": null,
   "metadata": {},
   "outputs": [],
   "source": []
  },
  {
   "cell_type": "code",
   "execution_count": null,
   "metadata": {},
   "outputs": [],
   "source": []
  },
  {
   "cell_type": "code",
   "execution_count": null,
   "metadata": {},
   "outputs": [],
   "source": []
  },
  {
   "cell_type": "code",
   "execution_count": null,
   "metadata": {},
   "outputs": [],
   "source": []
  },
  {
   "cell_type": "code",
   "execution_count": null,
   "metadata": {},
   "outputs": [],
   "source": []
  }
 ],
 "metadata": {
  "kernelspec": {
   "display_name": "Python 3",
   "language": "python",
   "name": "python3"
  },
  "language_info": {
   "codemirror_mode": {
    "name": "ipython",
    "version": 3
   },
   "file_extension": ".py",
   "mimetype": "text/x-python",
   "name": "python",
   "nbconvert_exporter": "python",
   "pygments_lexer": "ipython3",
   "version": "3.7.3"
  }
 },
 "nbformat": 4,
 "nbformat_minor": 2
}
