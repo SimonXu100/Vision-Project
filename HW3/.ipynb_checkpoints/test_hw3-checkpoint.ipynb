{
 "cells": [
  {
   "cell_type": "code",
   "execution_count": 2,
   "metadata": {},
   "outputs": [],
   "source": [
    "import numpy as np\n",
    "import matplotlib.pyplot as plt\n",
    "from PIL import Image\n",
    "from IPython import display\n",
    "import sys\n",
    "import random\n",
    "import cv2\n",
    "%matplotlib inline"
   ]
  },
  {
   "cell_type": "code",
   "execution_count": 88,
   "metadata": {},
   "outputs": [],
   "source": [
    "def compute_homography(src, dst):\n",
    "    '''Computes the homography from src to dst.\n",
    "    \n",
    "    Input:\n",
    "        src: source points, shape (n, 2)\n",
    "        dst: destination points, shape (n, 2)\n",
    "    Output:\n",
    "        H: homography from source points to destination points, shape (3, 3)\n",
    "        \n",
    "    TODO: Implement the A matrix. \n",
    "    '''\n",
    "    \n",
    "    A = np.zeros([2*src.shape[0], 9])\n",
    "    # Your code here.\n",
    "    # temp array1: size: 2n * 3, every rows is [xi,yi,1]: points in src\n",
    "    temp_array1 = np.ones([2*src.shape[0], 3])\n",
    "    temp_array1[0:2*src.shape[0]:2, 0:2] = src[:,:]\n",
    "    temp_array1[1:2*src.shape[0]:2, 0:2] = src[:,:]\n",
    "    \n",
    "    print(\"temp_array1  \", temp_array1)\n",
    "    \n",
    "    \n",
    "    # temp array2: size 2n*1, like [[-x0'],[-y0'],[-x1'],[-y'],......], these from dst \n",
    "    temp_array2 = np.zeros([2*dst.shape[0], 1])\n",
    "    \n",
    "    temp_array2[0:2*dst.shape[0]:2,:] = dst[:,0]\n",
    "    temp_array2[1:2*dst.shape[0]:2,:] = dst[:,1]\n",
    "    \n",
    "    \n",
    "    \n",
    "    \n",
    "    print(\"temp_array2   \", temp_array2)\n",
    "    \n",
    "    # Combine\n",
    "    A[0:A.shape[0]:2,0:2] = src\n",
    "    A[1:A.shape[0]:2,3:5] = src\n",
    "    \n",
    "    A[0:A.shape[0]:2,2] = 1\n",
    "    A[1:A.shape[0]:2,5] = 1\n",
    "    \n",
    "    A[:,6:9] = - temp_array2 * temp_array1\n",
    "    \n",
    "    return A\n",
    "    \n",
    "    \n",
    "    \n",
    "    '''\n",
    "    w, v = np.linalg.eig(np.dot(A.T, A))\n",
    "    index = np.argmin(w)\n",
    "    H = v[:, index].reshape([3,3])\n",
    "    return H\n",
    "    '''"
   ]
  },
  {
   "cell_type": "code",
   "execution_count": 85,
   "metadata": {},
   "outputs": [],
   "source": [
    "src_test = np.array([[1,1],[2,2],[3,3]])"
   ]
  },
  {
   "cell_type": "code",
   "execution_count": 86,
   "metadata": {},
   "outputs": [],
   "source": [
    "dst_test = np.array([[2,1],[3,2],[4,3]])"
   ]
  },
  {
   "cell_type": "code",
   "execution_count": 87,
   "metadata": {},
   "outputs": [
    {
     "data": {
      "text/plain": [
       "array([[2, 1],\n",
       "       [3, 2],\n",
       "       [4, 3]])"
      ]
     },
     "execution_count": 87,
     "metadata": {},
     "output_type": "execute_result"
    }
   ],
   "source": [
    "dst_test"
   ]
  },
  {
   "cell_type": "code",
   "execution_count": 94,
   "metadata": {},
   "outputs": [],
   "source": [
    "src_test2 =  np.matrix('1, 1; 2, 2; 3, 3')\n",
    "dst_test2 = np.matrix('2, 1; 3, 2; 4, 3')"
   ]
  },
  {
   "cell_type": "code",
   "execution_count": 95,
   "metadata": {},
   "outputs": [
    {
     "data": {
      "text/plain": [
       "matrix([[1, 1],\n",
       "        [2, 2],\n",
       "        [3, 3]])"
      ]
     },
     "execution_count": 95,
     "metadata": {},
     "output_type": "execute_result"
    }
   ],
   "source": [
    "\n"
   ]
  },
  {
   "cell_type": "code",
   "execution_count": 96,
   "metadata": {},
   "outputs": [
    {
     "name": "stdout",
     "output_type": "stream",
     "text": [
      "temp_array1   [[1. 1. 1.]\n",
      " [1. 1. 1.]\n",
      " [2. 2. 1.]\n",
      " [2. 2. 1.]\n",
      " [3. 3. 1.]\n",
      " [3. 3. 1.]]\n"
     ]
    },
    {
     "ename": "ValueError",
     "evalue": "could not broadcast input array from shape (3,1) into shape (3)",
     "output_type": "error",
     "traceback": [
      "\u001b[0;31m---------------------------------------------------------------------------\u001b[0m",
      "\u001b[0;31mValueError\u001b[0m                                Traceback (most recent call last)",
      "\u001b[0;32m<ipython-input-96-591ccfceea0b>\u001b[0m in \u001b[0;36m<module>\u001b[0;34m\u001b[0m\n\u001b[0;32m----> 1\u001b[0;31m \u001b[0mcompute_homography\u001b[0m\u001b[0;34m(\u001b[0m\u001b[0msrc_test2\u001b[0m\u001b[0;34m,\u001b[0m \u001b[0mdst_test2\u001b[0m\u001b[0;34m)\u001b[0m\u001b[0;34m\u001b[0m\u001b[0;34m\u001b[0m\u001b[0m\n\u001b[0m",
      "\u001b[0;32m<ipython-input-88-362f3ff2416c>\u001b[0m in \u001b[0;36mcompute_homography\u001b[0;34m(src, dst)\u001b[0m\n\u001b[1;32m     24\u001b[0m     \u001b[0mtemp_array2\u001b[0m \u001b[0;34m=\u001b[0m \u001b[0mnp\u001b[0m\u001b[0;34m.\u001b[0m\u001b[0mzeros\u001b[0m\u001b[0;34m(\u001b[0m\u001b[0;34m[\u001b[0m\u001b[0;36m2\u001b[0m\u001b[0;34m*\u001b[0m\u001b[0mdst\u001b[0m\u001b[0;34m.\u001b[0m\u001b[0mshape\u001b[0m\u001b[0;34m[\u001b[0m\u001b[0;36m0\u001b[0m\u001b[0;34m]\u001b[0m\u001b[0;34m,\u001b[0m \u001b[0;36m1\u001b[0m\u001b[0;34m]\u001b[0m\u001b[0;34m)\u001b[0m\u001b[0;34m\u001b[0m\u001b[0;34m\u001b[0m\u001b[0m\n\u001b[1;32m     25\u001b[0m \u001b[0;34m\u001b[0m\u001b[0m\n\u001b[0;32m---> 26\u001b[0;31m     \u001b[0mtemp_array2\u001b[0m\u001b[0;34m[\u001b[0m\u001b[0;36m0\u001b[0m\u001b[0;34m:\u001b[0m\u001b[0;36m2\u001b[0m\u001b[0;34m*\u001b[0m\u001b[0mdst\u001b[0m\u001b[0;34m.\u001b[0m\u001b[0mshape\u001b[0m\u001b[0;34m[\u001b[0m\u001b[0;36m0\u001b[0m\u001b[0;34m]\u001b[0m\u001b[0;34m:\u001b[0m\u001b[0;36m2\u001b[0m\u001b[0;34m,\u001b[0m\u001b[0;36m0\u001b[0m\u001b[0;34m]\u001b[0m \u001b[0;34m=\u001b[0m \u001b[0mdst\u001b[0m\u001b[0;34m[\u001b[0m\u001b[0;34m:\u001b[0m\u001b[0;34m,\u001b[0m\u001b[0;36m0\u001b[0m\u001b[0;34m]\u001b[0m\u001b[0;34m\u001b[0m\u001b[0;34m\u001b[0m\u001b[0m\n\u001b[0m\u001b[1;32m     27\u001b[0m     \u001b[0mtemp_array2\u001b[0m\u001b[0;34m[\u001b[0m\u001b[0;36m1\u001b[0m\u001b[0;34m:\u001b[0m\u001b[0;36m2\u001b[0m\u001b[0;34m*\u001b[0m\u001b[0mdst\u001b[0m\u001b[0;34m.\u001b[0m\u001b[0mshape\u001b[0m\u001b[0;34m[\u001b[0m\u001b[0;36m0\u001b[0m\u001b[0;34m]\u001b[0m\u001b[0;34m:\u001b[0m\u001b[0;36m2\u001b[0m\u001b[0;34m,\u001b[0m\u001b[0;36m0\u001b[0m\u001b[0;34m]\u001b[0m \u001b[0;34m=\u001b[0m \u001b[0mdst\u001b[0m\u001b[0;34m[\u001b[0m\u001b[0;34m:\u001b[0m\u001b[0;34m,\u001b[0m\u001b[0;36m1\u001b[0m\u001b[0;34m]\u001b[0m\u001b[0;34m\u001b[0m\u001b[0;34m\u001b[0m\u001b[0m\n\u001b[1;32m     28\u001b[0m \u001b[0;34m\u001b[0m\u001b[0m\n",
      "\u001b[0;31mValueError\u001b[0m: could not broadcast input array from shape (3,1) into shape (3)"
     ]
    }
   ],
   "source": [
    "compute_homography(src_test2, dst_test2)"
   ]
  },
  {
   "cell_type": "code",
   "execution_count": null,
   "metadata": {},
   "outputs": [],
   "source": []
  },
  {
   "cell_type": "code",
   "execution_count": 91,
   "metadata": {
    "scrolled": true
   },
   "outputs": [
    {
     "name": "stdout",
     "output_type": "stream",
     "text": [
      "temp_array1   [[1. 1. 1.]\n",
      " [1. 1. 1.]\n",
      " [2. 2. 1.]\n",
      " [2. 2. 1.]\n",
      " [3. 3. 1.]\n",
      " [3. 3. 1.]]\n",
      "temp_array2    [[2.]\n",
      " [1.]\n",
      " [3.]\n",
      " [2.]\n",
      " [4.]\n",
      " [3.]]\n"
     ]
    },
    {
     "data": {
      "text/plain": [
       "array([[  1.,   1.,   1.,   0.,   0.,   0.,  -2.,  -2.,  -2.],\n",
       "       [  0.,   0.,   0.,   1.,   1.,   1.,  -1.,  -1.,  -1.],\n",
       "       [  2.,   2.,   1.,   0.,   0.,   0.,  -6.,  -6.,  -3.],\n",
       "       [  0.,   0.,   0.,   2.,   2.,   1.,  -4.,  -4.,  -2.],\n",
       "       [  3.,   3.,   1.,   0.,   0.,   0., -12., -12.,  -4.],\n",
       "       [  0.,   0.,   0.,   3.,   3.,   1.,  -9.,  -9.,  -3.]])"
      ]
     },
     "execution_count": 91,
     "metadata": {},
     "output_type": "execute_result"
    }
   ],
   "source": [
    "compute_homography(src_test, dst_test)\n",
    "\n",
    "\n",
    "\n"
   ]
  },
  {
   "cell_type": "code",
   "execution_count": 92,
   "metadata": {},
   "outputs": [],
   "source": []
  },
  {
   "cell_type": "code",
   "execution_count": null,
   "metadata": {},
   "outputs": [],
   "source": []
  },
  {
   "cell_type": "code",
   "execution_count": null,
   "metadata": {},
   "outputs": [],
   "source": []
  }
 ],
 "metadata": {
  "kernelspec": {
   "display_name": "Python 3",
   "language": "python",
   "name": "python3"
  },
  "language_info": {
   "codemirror_mode": {
    "name": "ipython",
    "version": 3
   },
   "file_extension": ".py",
   "mimetype": "text/x-python",
   "name": "python",
   "nbconvert_exporter": "python",
   "pygments_lexer": "ipython3",
   "version": "3.7.3"
  }
 },
 "nbformat": 4,
 "nbformat_minor": 2
}
